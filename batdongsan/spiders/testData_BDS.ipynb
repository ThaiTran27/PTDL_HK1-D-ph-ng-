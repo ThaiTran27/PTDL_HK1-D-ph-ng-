{
 "cells": [
  {
   "cell_type": "code",
   "execution_count": 2,
   "metadata": {},
   "outputs": [
    {
     "data": {
      "text/html": [
       "<div>\n",
       "<style scoped>\n",
       "    .dataframe tbody tr th:only-of-type {\n",
       "        vertical-align: middle;\n",
       "    }\n",
       "\n",
       "    .dataframe tbody tr th {\n",
       "        vertical-align: top;\n",
       "    }\n",
       "\n",
       "    .dataframe thead th {\n",
       "        text-align: right;\n",
       "    }\n",
       "</style>\n",
       "<table border=\"1\" class=\"dataframe\">\n",
       "  <thead>\n",
       "    <tr style=\"text-align: right;\">\n",
       "      <th></th>\n",
       "      <th>Mã_tin</th>\n",
       "      <th>Tiêu_đề</th>\n",
       "      <th>Đường</th>\n",
       "      <th>Quận</th>\n",
       "      <th>Thành_phố</th>\n",
       "      <th>Diện_tích</th>\n",
       "      <th>Giá</th>\n",
       "      <th>Pháp_lý</th>\n",
       "      <th>Số_phòng_ngủ</th>\n",
       "      <th>Số_phòng_toilet</th>\n",
       "      <th>Ngày_đăng</th>\n",
       "      <th>Mô_tả</th>\n",
       "      <th>chi_tiet_link</th>\n",
       "    </tr>\n",
       "  </thead>\n",
       "  <tbody>\n",
       "    <tr>\n",
       "      <th>0</th>\n",
       "      <td>121287</td>\n",
       "      <td>💥Chính chủ cần bán gấp căn nhà sổ riêng 1 trệt...</td>\n",
       "      <td>Vĩnh Cửu</td>\n",
       "      <td>Vĩnh Cửu</td>\n",
       "      <td>Đồng Nai</td>\n",
       "      <td>100 m²</td>\n",
       "      <td>2 tỷ 250 triệu</td>\n",
       "      <td>Sổ đỏ/ Sổ hồng</td>\n",
       "      <td>3 phòng</td>\n",
       "      <td>2 phòng</td>\n",
       "      <td>08/10/2024</td>\n",
       "      <td>💥Chính chủ cần bán gấp căn nhà sổ riêng 1 trệt...</td>\n",
       "      <td>https://batdongsan.vn/chinh-chu-can-ban-gap-ca...</td>\n",
       "    </tr>\n",
       "    <tr>\n",
       "      <th>1</th>\n",
       "      <td>121228</td>\n",
       "      <td>Bán Nhà mặt phố Yên Duyên, Yên Sở, kinh doanh ...</td>\n",
       "      <td>yên duyên</td>\n",
       "      <td>Hoàng Mai</td>\n",
       "      <td>Hà Nội</td>\n",
       "      <td>84 m²</td>\n",
       "      <td>16 tỷ 800 triệu</td>\n",
       "      <td>Sổ đỏ/ Sổ hồng</td>\n",
       "      <td>NaN</td>\n",
       "      <td>NaN</td>\n",
       "      <td>04/10/2024</td>\n",
       "      <td>Nhà mặt phố Yên Duyên, phường Yên Sở - khu vực...</td>\n",
       "      <td>https://batdongsan.vn/ban-nha-mat-pho-yen-duye...</td>\n",
       "    </tr>\n",
       "  </tbody>\n",
       "</table>\n",
       "</div>"
      ],
      "text/plain": [
       "   Mã_tin                                            Tiêu_đề      Đường  \\\n",
       "0  121287  💥Chính chủ cần bán gấp căn nhà sổ riêng 1 trệt...   Vĩnh Cửu   \n",
       "1  121228  Bán Nhà mặt phố Yên Duyên, Yên Sở, kinh doanh ...  yên duyên   \n",
       "\n",
       "        Quận Thành_phố Diện_tích              Giá         Pháp_lý  \\\n",
       "0   Vĩnh Cửu  Đồng Nai    100 m²   2 tỷ 250 triệu  Sổ đỏ/ Sổ hồng   \n",
       "1  Hoàng Mai    Hà Nội     84 m²  16 tỷ 800 triệu  Sổ đỏ/ Sổ hồng   \n",
       "\n",
       "  Số_phòng_ngủ Số_phòng_toilet   Ngày_đăng  \\\n",
       "0      3 phòng         2 phòng  08/10/2024   \n",
       "1          NaN             NaN  04/10/2024   \n",
       "\n",
       "                                               Mô_tả  \\\n",
       "0  💥Chính chủ cần bán gấp căn nhà sổ riêng 1 trệt...   \n",
       "1  Nhà mặt phố Yên Duyên, phường Yên Sở - khu vực...   \n",
       "\n",
       "                                       chi_tiet_link  \n",
       "0  https://batdongsan.vn/chinh-chu-can-ban-gap-ca...  \n",
       "1  https://batdongsan.vn/ban-nha-mat-pho-yen-duye...  "
      ]
     },
     "execution_count": 2,
     "metadata": {},
     "output_type": "execute_result"
    }
   ],
   "source": [
    "import pandas as pd \n",
    "df=pd.read_csv(\"batdongsan.csv\")\n",
    "df.head(2)"
   ]
  },
  {
   "cell_type": "code",
   "execution_count": 3,
   "metadata": {},
   "outputs": [
    {
     "data": {
      "text/plain": [
       "(1056, 13)"
      ]
     },
     "execution_count": 3,
     "metadata": {},
     "output_type": "execute_result"
    }
   ],
   "source": [
    "df.shape"
   ]
  }
 ],
 "metadata": {
  "kernelspec": {
   "display_name": "Python 3",
   "language": "python",
   "name": "python3"
  },
  "language_info": {
   "codemirror_mode": {
    "name": "ipython",
    "version": 3
   },
   "file_extension": ".py",
   "mimetype": "text/x-python",
   "name": "python",
   "nbconvert_exporter": "python",
   "pygments_lexer": "ipython3",
   "version": "3.12.0"
  }
 },
 "nbformat": 4,
 "nbformat_minor": 2
}
